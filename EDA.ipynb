{
 "cells": [
  {
   "cell_type": "code",
   "execution_count": null,
   "id": "e7edcb1b",
   "metadata": {},
   "outputs": [],
   "source": [
    "import pandas as pd\n",
    "import numpy as np\n",
    "import matplotlib as mpl\n",
    "import matplotlib.pyplot as plt\n",
    "import matplotlib.cm as cm\n",
    "import matplotlib.font_manager as fm\n",
    "import math\n",
    "import seaborn as sns\n",
    "import os\n",
    "from collections import Counter\n",
    "import sklearn\n",
    "from sklearn.decomposition import PCA\n",
    "from sklearn import metrics, preprocessing, neighbors, cluster\n",
    "from sklearn import cluster\n",
    "from sklearn.cluster import KMeans, AgglomerativeClustering, DBSCAN\n",
    "from scipy.cluster.hierarchy import dendrogram, linkage, fcluster\n",
    "from sklearn.neighbors import kneighbors_graph\n",
    "from sklearn.preprocessing import StandardScaler\n",
    "from sklearn.metrics import silhouette_samples, silhouette_score\n",
    "plt.rcParams['figure.figsize'] = (10, 6)\n",
    "plt.style.use('ggplot')\n",
    "# Create color maps\n",
    "from matplotlib.colors import ListedColormap\n",
    "cmap = ListedColormap([\"#e41a1c\",\"#984ea3\",\"#a65628\",\"#377eb8\",\"#ffff33\",\"#4daf4a\",\"#ff7f00\"])\n",
    "%matplotlib inline\n",
    "pd.set_option('display.max_columns', None)"
   ]
  },
  {
   "cell_type": "code",
   "execution_count": null,
   "id": "e05c5349",
   "metadata": {},
   "outputs": [],
   "source": [
    "df = pd.read_csv('Pull_Data.csv', encoding='utf-8')\n",
    "df"
   ]
  },
  {
   "cell_type": "code",
   "execution_count": null,
   "id": "c0423fed",
   "metadata": {},
   "outputs": [],
   "source": [
    "df2 = df.drop(\"rest name\", axis=1)\n",
    "rank_counts = df['rest name'].value_counts()\n",
    "df2.hist(figsize=(50, 50))  # Set the figure size\n",
    "plt.bar(rank_counts.index, rank_counts.values)  # Create the bar chart\n",
    "plt.xlabel('Restaurant Rank')  # Set the x-axis label\n",
    "plt.ylabel('Number of Restaurants')  # Set the y-axis label\n",
    "plt.title('Distribution of Restaurant Ranks')  # Set the title\n",
    "plt.show()  # Display the plot"
   ]
  },
  {
   "cell_type": "code",
   "execution_count": null,
   "id": "165908f2",
   "metadata": {},
   "outputs": [],
   "source": [
    "df['rest rank'].value_counts().plot(kind='pie')"
   ]
  },
  {
   "cell_type": "code",
   "execution_count": null,
   "id": "079680c8",
   "metadata": {},
   "outputs": [],
   "source": []
  },
  {
   "cell_type": "code",
   "execution_count": null,
   "id": "b8694a0a",
   "metadata": {},
   "outputs": [],
   "source": []
  }
 ],
 "metadata": {
  "kernelspec": {
   "display_name": "Python 3 (ipykernel)",
   "language": "python",
   "name": "python3"
  },
  "language_info": {
   "codemirror_mode": {
    "name": "ipython",
    "version": 3
   },
   "file_extension": ".py",
   "mimetype": "text/x-python",
   "name": "python",
   "nbconvert_exporter": "python",
   "pygments_lexer": "ipython3",
   "version": "3.11.3"
  }
 },
 "nbformat": 4,
 "nbformat_minor": 5
}
